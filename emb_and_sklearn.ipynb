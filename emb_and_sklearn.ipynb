{
 "cells": [
  {
   "cell_type": "code",
   "execution_count": 65,
   "metadata": {},
   "outputs": [],
   "source": [
    "import numpy as np\n",
    "\n",
    "import text_processing\n",
    "\n",
    "from sklearn.preprocessing import FunctionTransformer, MinMaxScaler\n",
    "from sklearn.pipeline import Pipeline\n",
    "from sklearn.svm import SVC\n",
    "from sklearn.naive_bayes import ComplementNB\n",
    "from sklearn.ensemble import GradientBoostingClassifier, RandomForestClassifier\n",
    "\n",
    "from sklearn.model_selection import train_test_split\n",
    "from sklearn import metrics"
   ]
  },
  {
   "cell_type": "code",
   "execution_count": 2,
   "metadata": {},
   "outputs": [
    {
     "name": "stdout",
     "output_type": "stream",
     "text": [
      "Problem with hashtag #MrBurns???... skipping.\n"
     ]
    }
   ],
   "source": [
    "TRAINING_DATA = 'training_data/NAACL_revised.csv'\n",
    "\n",
    "X, y = text_processing.load_and_prepare_data(TRAINING_DATA)"
   ]
  },
  {
   "cell_type": "code",
   "execution_count": 72,
   "metadata": {
    "collapsed": true
   },
   "outputs": [],
   "source": [
    "WEIGHTS_FILE = 'embedding_weights.npy'\n",
    "\n",
    "embedding_matrix = np.load(WEIGHTS_FILE)\n",
    "\n",
    "def transform(x):\n",
    "    emb =  embedding_matrix[x]\n",
    "    return emb.reshape(len(emb), -1)\n",
    "\n",
    "transformer = FunctionTransformer(transform, validate=False)"
   ]
  },
  {
   "cell_type": "code",
   "execution_count": 73,
   "metadata": {},
   "outputs": [],
   "source": [
    "clf = Pipeline([\n",
    "    ('embedding', transformer),\n",
    "    ('sclaler', MinMaxScaler()),\n",
    "    ('naive_bayes', ComplementNB(alpha=2))\n",
    "])"
   ]
  },
  {
   "cell_type": "code",
   "execution_count": 74,
   "metadata": {},
   "outputs": [
    {
     "data": {
      "text/plain": [
       "Pipeline(memory=None,\n",
       "     steps=[('embedding', FunctionTransformer(accept_sparse=False, check_inverse=True,\n",
       "          func=<function transform at 0x000001687BB84C80>,\n",
       "          inv_kw_args=None, inverse_func=None, kw_args=None,\n",
       "          pass_y='deprecated', validate=False)), ('sclaler', MinMaxScaler(copy=True, feature_range=(0, 1))), ('naive_bayes', ComplementNB(alpha=2, class_prior=None, fit_prior=True, norm=False))])"
      ]
     },
     "execution_count": 74,
     "metadata": {},
     "output_type": "execute_result"
    }
   ],
   "source": [
    "np.random.seed(152)\n",
    "X_train, X_test, y_train, y_test = train_test_split(X, y)\n",
    "\n",
    "clf.fit(X_train, y_train)"
   ]
  },
  {
   "cell_type": "code",
   "execution_count": 75,
   "metadata": {
    "scrolled": true
   },
   "outputs": [
    {
     "name": "stdout",
     "output_type": "stream",
     "text": [
      "              precision    recall  f1-score   support\n",
      "\n",
      "           0       0.84      0.58      0.69      2055\n",
      "           1       0.38      0.71      0.49       743\n",
      "\n",
      "   micro avg       0.61      0.61      0.61      2798\n",
      "   macro avg       0.61      0.64      0.59      2798\n",
      "weighted avg       0.72      0.61      0.64      2798\n",
      "\n"
     ]
    }
   ],
   "source": [
    "print(metrics.classification_report(y_test, clf.predict(X_test)))"
   ]
  },
  {
   "cell_type": "code",
   "execution_count": 76,
   "metadata": {},
   "outputs": [
    {
     "name": "stdout",
     "output_type": "stream",
     "text": [
      "Wall time: 56 s\n"
     ]
    },
    {
     "data": {
      "text/plain": [
       "Pipeline(memory=None,\n",
       "     steps=[('embedding', FunctionTransformer(accept_sparse=False, check_inverse=True,\n",
       "          func=<function transform at 0x000001687BB84C80>,\n",
       "          inv_kw_args=None, inverse_func=None, kw_args=None,\n",
       "          pass_y='deprecated', validate=False)), ('gbdt', GradientBoostingClassifier(criterion='fr...    subsample=1.0, tol=0.0001, validation_fraction=0.1,\n",
       "              verbose=0, warm_start=False))])"
      ]
     },
     "execution_count": 76,
     "metadata": {},
     "output_type": "execute_result"
    }
   ],
   "source": [
    "gbdt = Pipeline([\n",
    "    ('embedding', transformer),\n",
    "    ('gbdt', GradientBoostingClassifier())\n",
    "])\n",
    "\n",
    "%time gbdt.fit(X_train, y_train)"
   ]
  },
  {
   "cell_type": "code",
   "execution_count": 79,
   "metadata": {
    "scrolled": true
   },
   "outputs": [
    {
     "name": "stdout",
     "output_type": "stream",
     "text": [
      "              precision    recall  f1-score   support\n",
      "\n",
      "           0       0.84      0.97      0.90      2055\n",
      "           1       0.87      0.50      0.64       743\n",
      "\n",
      "   micro avg       0.85      0.85      0.85      2798\n",
      "   macro avg       0.86      0.74      0.77      2798\n",
      "weighted avg       0.85      0.85      0.83      2798\n",
      "\n"
     ]
    }
   ],
   "source": [
    "print(metrics.classification_report(y_test, gbdt.predict(X_test)))"
   ]
  },
  {
   "cell_type": "code",
   "execution_count": 70,
   "metadata": {},
   "outputs": [
    {
     "name": "stdout",
     "output_type": "stream",
     "text": [
      "Wall time: 3.61 s\n"
     ]
    },
    {
     "data": {
      "text/plain": [
       "Pipeline(memory=None,\n",
       "     steps=[('embedding', FunctionTransformer(accept_sparse=False, check_inverse=True,\n",
       "          func=<function transform at 0x000001687BE5CD90>,\n",
       "          inv_kw_args=None, inverse_func=None, kw_args=None,\n",
       "          pass_y='deprecated', validate=False)), ('gbdt', RandomForestClassifier(bootstrap=True, c..._jobs=-1,\n",
       "            oob_score=False, random_state=None, verbose=0,\n",
       "            warm_start=False))])"
      ]
     },
     "execution_count": 70,
     "metadata": {},
     "output_type": "execute_result"
    }
   ],
   "source": [
    "forest = Pipeline([\n",
    "    ('embedding', transformer),\n",
    "    ('gbdt', RandomForestClassifier(n_estimators=50, n_jobs=-1))\n",
    "])\n",
    "\n",
    "%time forest.fit(X_train, y_train)"
   ]
  },
  {
   "cell_type": "code",
   "execution_count": 71,
   "metadata": {
    "scrolled": true
   },
   "outputs": [
    {
     "name": "stdout",
     "output_type": "stream",
     "text": [
      "              precision    recall  f1-score   support\n",
      "\n",
      "           0       0.81      0.98      0.88      2055\n",
      "           1       0.85      0.35      0.50       743\n",
      "\n",
      "   micro avg       0.81      0.81      0.81      2798\n",
      "   macro avg       0.83      0.67      0.69      2798\n",
      "weighted avg       0.82      0.81      0.78      2798\n",
      "\n"
     ]
    }
   ],
   "source": [
    "print(metrics.classification_report(y_test, forest.predict(X_test)))"
   ]
  }
 ],
 "metadata": {
  "kernelspec": {
   "display_name": "Python 3",
   "language": "python",
   "name": "python3"
  },
  "language_info": {
   "codemirror_mode": {
    "name": "ipython",
    "version": 3
   },
   "file_extension": ".py",
   "mimetype": "text/x-python",
   "name": "python",
   "nbconvert_exporter": "python",
   "pygments_lexer": "ipython3",
   "version": "3.6.3"
  }
 },
 "nbformat": 4,
 "nbformat_minor": 2
}
