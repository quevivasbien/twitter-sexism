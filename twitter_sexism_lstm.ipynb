{
 "cells": [
  {
   "cell_type": "code",
   "execution_count": 28,
   "metadata": {
    "collapsed": true
   },
   "outputs": [],
   "source": [
    "import json\n",
    "import numpy as np\n",
    "import pandas as pd\n",
    "import matplotlib.pyplot as plt\n",
    "\n",
    "from collections import Counter\n",
    "\n",
    "from keras.preprocessing.sequence import pad_sequences\n",
    "from keras.models import Sequential\n",
    "from keras.layers import Embedding, LSTM, BatchNormalization, Dense, Dropout\n",
    "from keras.regularizers import l2\n",
    "from keras.callbacks import EarlyStopping, ModelCheckpoint\n",
    "from keras.optimizers import Adam\n",
    "\n",
    "from sklearn.utils import class_weight\n",
    "from sklearn.model_selection import train_test_split\n",
    "from sklearn import metrics\n",
    "\n",
    "#local module that I created to help with text preprocessing\n",
    "import text_processing as t_proc"
   ]
  },
  {
   "cell_type": "code",
   "execution_count": 3,
   "metadata": {},
   "outputs": [
    {
     "name": "stdout",
     "output_type": "stream",
     "text": [
      "              label\n",
      "count  11192.000000\n",
      "mean       0.262598\n",
      "std        0.440066\n",
      "min        0.000000\n",
      "25%        0.000000\n",
      "50%        0.000000\n",
      "75%        1.000000\n",
      "max        1.000000\n"
     ]
    },
    {
     "data": {
      "text/html": [
       "<div>\n",
       "<style scoped>\n",
       "    .dataframe tbody tr th:only-of-type {\n",
       "        vertical-align: middle;\n",
       "    }\n",
       "\n",
       "    .dataframe tbody tr th {\n",
       "        vertical-align: top;\n",
       "    }\n",
       "\n",
       "    .dataframe thead th {\n",
       "        text-align: right;\n",
       "    }\n",
       "</style>\n",
       "<table border=\"1\" class=\"dataframe\">\n",
       "  <thead>\n",
       "    <tr style=\"text-align: right;\">\n",
       "      <th></th>\n",
       "      <th>label</th>\n",
       "      <th>text</th>\n",
       "    </tr>\n",
       "  </thead>\n",
       "  <tbody>\n",
       "    <tr>\n",
       "      <th>7003</th>\n",
       "      <td>0</td>\n",
       "      <td>What if my skin is so white it glows, and I've...</td>\n",
       "    </tr>\n",
       "    <tr>\n",
       "      <th>5529</th>\n",
       "      <td>0</td>\n",
       "      <td>Bad bad food. Plain and simple Kat. #MKR</td>\n",
       "    </tr>\n",
       "    <tr>\n",
       "      <th>6686</th>\n",
       "      <td>0</td>\n",
       "      <td>@girlziplocked I WANT TO SEE THIS. but storify...</td>\n",
       "    </tr>\n",
       "    <tr>\n",
       "      <th>7746</th>\n",
       "      <td>0</td>\n",
       "      <td>Oh, look who is ban evading. Well, I guess I'l...</td>\n",
       "    </tr>\n",
       "    <tr>\n",
       "      <th>9118</th>\n",
       "      <td>0</td>\n",
       "      <td>@trentmkays @drurbanski except that features l...</td>\n",
       "    </tr>\n",
       "    <tr>\n",
       "      <th>6472</th>\n",
       "      <td>0</td>\n",
       "      <td>RT @a_man_in_black: @freebsdgirl Hey, did you ...</td>\n",
       "    </tr>\n",
       "    <tr>\n",
       "      <th>10811</th>\n",
       "      <td>0</td>\n",
       "      <td>RT @iknowaboutstuff: Update: ripped this passi...</td>\n",
       "    </tr>\n",
       "    <tr>\n",
       "      <th>3689</th>\n",
       "      <td>0</td>\n",
       "      <td>I think Lynn and Tony might be in trouble. If ...</td>\n",
       "    </tr>\n",
       "    <tr>\n",
       "      <th>4457</th>\n",
       "      <td>0</td>\n",
       "      <td>#mkr why would anyone want to eat chicken live...</td>\n",
       "    </tr>\n",
       "    <tr>\n",
       "      <th>69</th>\n",
       "      <td>1</td>\n",
       "      <td>Nikki...Kermit the frog called and he wants hi...</td>\n",
       "    </tr>\n",
       "  </tbody>\n",
       "</table>\n",
       "</div>"
      ],
      "text/plain": [
       "       label                                               text\n",
       "7003       0  What if my skin is so white it glows, and I've...\n",
       "5529       0           Bad bad food. Plain and simple Kat. #MKR\n",
       "6686       0  @girlziplocked I WANT TO SEE THIS. but storify...\n",
       "7746       0  Oh, look who is ban evading. Well, I guess I'l...\n",
       "9118       0  @trentmkays @drurbanski except that features l...\n",
       "6472       0  RT @a_man_in_black: @freebsdgirl Hey, did you ...\n",
       "10811      0  RT @iknowaboutstuff: Update: ripped this passi...\n",
       "3689       0  I think Lynn and Tony might be in trouble. If ...\n",
       "4457       0  #mkr why would anyone want to eat chicken live...\n",
       "69         1  Nikki...Kermit the frog called and he wants hi..."
      ]
     },
     "execution_count": 3,
     "metadata": {},
     "output_type": "execute_result"
    }
   ],
   "source": [
    "#VIDHYA_DATA = 'training_data/vidhya_data.csv'\n",
    "NAACL_DATA = 'training_data/NAACL_revised.csv'\n",
    "\n",
    "#vidhya_data = pd.read_csv(VIDHYA_DATA, usecols=['label', 'tweet'])\n",
    "naacl_data = pd.read_csv(NAACL_DATA, usecols=['label', 'text'])\n",
    "\n",
    "training_data = naacl_data #pd.concat([vidhya_data, naacl_data]).reset_index(drop=True)\n",
    "\n",
    "print(training_data.describe())\n",
    "training_data.sample(10)"
   ]
  },
  {
   "cell_type": "code",
   "execution_count": 5,
   "metadata": {
    "scrolled": true
   },
   "outputs": [
    {
     "name": "stdout",
     "output_type": "stream",
     "text": [
      "Problem with hashtag #MrBurns???... skipping.\n"
     ]
    }
   ],
   "source": [
    "tweets = list(training_data.text)\n",
    "labels = np.array(training_data.label)\n",
    "\n",
    "tweets = [t_proc.glove_preprocess(t) for t in tweets]\n",
    "tweets_tokenized = [t_proc.tokenize_status_text(t) for t in tweets]"
   ]
  },
  {
   "cell_type": "code",
   "execution_count": 6,
   "metadata": {
    "collapsed": true
   },
   "outputs": [],
   "source": [
    "# Create hash for Twitter vocab\n",
    "\n",
    "MAX_VOCAB_SIZE = 20000\n",
    "\n",
    "counter = Counter()\n",
    "for t in tweets_tokenized:\n",
    "    counter.update(t)\n",
    "\n",
    "vocab = [x[0] for x in counter.most_common(MAX_VOCAB_SIZE)]\n",
    "\n",
    "vocab_size = len(vocab)\n",
    "\n",
    "# Reserve 0 for unknown tokens\n",
    "hash_dict = dict((vocab[i], i+1) for i in range(vocab_size))\n",
    "\n",
    "# Save hashmap for later\n",
    "with open('hashmap.json', 'w', encoding='utf-8') as fh:\n",
    "    json.dump(hash_dict, fh, ensure_ascii=False)"
   ]
  },
  {
   "cell_type": "code",
   "execution_count": 7,
   "metadata": {},
   "outputs": [
    {
     "data": {
      "image/png": "[encoded data removed]",
      "text/plain": [
       "<matplotlib.figure.Figure at 0x251cac3fcf8>"
      ]
     },
     "metadata": {},
     "output_type": "display_data"
    }
   ],
   "source": [
    "tweet_lens = [len(t) for t in tweets_tokenized]\n",
    "plt.xlim((0,100))\n",
    "plt.hist(tweet_lens, bins=range(0,100,5))\n",
    "plt.show()"
   ]
  },
  {
   "cell_type": "code",
   "execution_count": 8,
   "metadata": {
    "collapsed": true
   },
   "outputs": [],
   "source": [
    "# Hash and pad tweets\n",
    "MAX_INPUT_LEN = 40 # len 40 should be plenty based on previous histogram\n",
    "\n",
    "def hash_token(t):\n",
    "    hashcode = hash_dict.get(t)\n",
    "    if hashcode is not None:\n",
    "        return hashcode\n",
    "    else:\n",
    "        # Hash unknown tokens as 0\n",
    "        return 0\n",
    "\n",
    "tweets_hashed = [[hash_token(t) for t in tweet] for tweet in tweets_tokenized]\n",
    "tweets_padded = pad_sequences(tweets_hashed, maxlen=MAX_INPUT_LEN)"
   ]
  },
  {
   "cell_type": "code",
   "execution_count": 80,
   "metadata": {
    "collapsed": true
   },
   "outputs": [],
   "source": [
    "# Create embedding dict from Glove pre-trained embeddings\n",
    "EMBEDDING_DIM = 25\n",
    "embedding_file = 'word_embeddings/glove.twitter.27B.{}d.txt'.format(EMBEDDING_DIM)\n",
    "\n",
    "emb_dict = {}\n",
    "with open(embedding_file, encoding='utf-8') as fh:\n",
    "    for line in fh:\n",
    "        chunks = line.split(' ')\n",
    "        word = chunks[0]\n",
    "        vec = np.array(chunks[1:], dtype='float32')\n",
    "        emb_dict[word] = vec"
   ]
  },
  {
   "cell_type": "code",
   "execution_count": 81,
   "metadata": {
    "collapsed": true
   },
   "outputs": [],
   "source": [
    "# Create embedding matrix with hashmap and pre-trained embeddings\n",
    "\n",
    "embedding_matrix = np.zeros((vocab_size+1, EMBEDDING_DIM), dtype='float32')\n",
    "for i in range(1, vocab_size+1):\n",
    "    embedding_vector = emb_dict.get(vocab[i-1])\n",
    "    if embedding_vector is not None:\n",
    "        embedding_matrix[i] = embedding_vector\n",
    "    #If the embedding dict doesn't have this token, it will be translated\n",
    "    # as a vector of zeroes.\n",
    "\n",
    "# Build embedding layer to plug into Keras Sequential model\n",
    "embedding = Embedding(input_dim=vocab_size+1,\n",
    "                      output_dim=EMBEDDING_DIM,\n",
    "                      weights=[embedding_matrix],\n",
    "                      input_length=MAX_INPUT_LEN,\n",
    "                      trainable=False)"
   ]
  },
  {
   "cell_type": "code",
   "execution_count": 14,
   "metadata": {
    "scrolled": true
   },
   "outputs": [
    {
     "name": "stdout",
     "output_type": "stream",
     "text": [
      "_________________________________________________________________\n",
      "Layer (type)                 Output Shape              Param #   \n",
      "=================================================================\n",
      "embedding_1 (Embedding)      (None, 40, 50)            861500    \n",
      "_________________________________________________________________\n",
      "lstm_2 (LSTM)                (None, 200)               200800    \n",
      "_________________________________________________________________\n",
      "batch_normalization_3 (Batch (None, 200)               800       \n",
      "_________________________________________________________________\n",
      "dense_3 (Dense)              (None, 100)               20100     \n",
      "_________________________________________________________________\n",
      "batch_normalization_4 (Batch (None, 100)               400       \n",
      "_________________________________________________________________\n",
      "dense_4 (Dense)              (None, 1)                 101       \n",
      "=================================================================\n",
      "Total params: 1,083,701\n",
      "Trainable params: 221,601\n",
      "Non-trainable params: 862,100\n",
      "_________________________________________________________________\n"
     ]
    }
   ],
   "source": [
    "# Construct model\n",
    "SAVE_AS = 'modelv2.h5'\n",
    "\n",
    "# General model structure & regularizer weights adapted from Pitsilis et al 2018\n",
    "model = Sequential()\n",
    "model.add(embedding)\n",
    "model.add(LSTM(200, activation='elu'))\n",
    "model.add(BatchNormalization())\n",
    "model.add(Dense(100, activation='relu', kernel_regularizer=l2(0.9)))\n",
    "model.add(BatchNormalization())\n",
    "model.add(Dense(1, activation='sigmoid', kernel_regularizer=l2(0.1)))\n",
    "\n",
    "'''\n",
    "callbacks = [EarlyStopping(monitor='val_loss', patience=4),\n",
    "             ModelCheckpoint(filepath=SAVE_AS, monitor='val_loss', save_best_only=True)]\n",
    "'''\n",
    "\n",
    "model.compile(loss='binary_crossentropy', optimizer=Adam(amsgrad=True), metrics=['accuracy'])\n",
    "model.summary()"
   ]
  },
  {
   "cell_type": "code",
   "execution_count": 12,
   "metadata": {
    "collapsed": true
   },
   "outputs": [],
   "source": [
    "#The data is imbalanced, so we need to figure out what class weights to use\n",
    "class_weights = class_weight.compute_class_weight('balanced',\n",
    "                                                  np.unique(labels),\n",
    "                                                  labels)\n",
    "\n",
    "#Split into training and validation sets\n",
    "np.random.seed(152)\n",
    "X_train, X_test, y_train, y_test = train_test_split(tweets_padded, labels,\n",
    "                                                    test_size=0.2, shuffle=True)"
   ]
  },
  {
   "cell_type": "code",
   "execution_count": 15,
   "metadata": {
    "scrolled": true
   },
   "outputs": [
    {
     "name": "stdout",
     "output_type": "stream",
     "text": [
      "Train on 8953 samples, validate on 2239 samples\n",
      "Epoch 1/20\n",
      "8953/8953 [==============================] - 16s 2ms/step - loss: 100.7038 - acc: 0.6879 - val_loss: 81.1466 - val_acc: 0.5547\n",
      "Epoch 2/20\n",
      "8953/8953 [==============================] - 13s 1ms/step - loss: 66.4667 - acc: 0.8070 - val_loss: 52.3939 - val_acc: 0.8205\n",
      "Epoch 3/20\n",
      "8953/8953 [==============================] - 12s 1ms/step - loss: 42.7619 - acc: 0.8399 - val_loss: 33.3766 - val_acc: 0.8249\n",
      "Epoch 4/20\n",
      "8953/8953 [==============================] - 12s 1ms/step - loss: 26.9681 - acc: 0.8480 - val_loss: 20.8286 - val_acc: 0.8227\n",
      "Epoch 5/20\n",
      "8953/8953 [==============================] - 12s 1ms/step - loss: 16.7002 - acc: 0.8616 - val_loss: 12.7836 - val_acc: 0.8428\n",
      "Epoch 6/20\n",
      "8953/8953 [==============================] - 13s 2ms/step - loss: 10.1666 - acc: 0.8640 - val_loss: 7.7905 - val_acc: 0.8379\n",
      "Epoch 7/20\n",
      "8953/8953 [==============================] - 12s 1ms/step - loss: 6.1010 - acc: 0.8683 - val_loss: 4.6722 - val_acc: 0.8481\n",
      "Epoch 8/20\n",
      "8953/8953 [==============================] - 12s 1ms/step - loss: 3.6430 - acc: 0.8700 - val_loss: 2.8515 - val_acc: 0.8450\n",
      "Epoch 9/20\n",
      "8953/8953 [==============================] - 12s 1ms/step - loss: 2.1984 - acc: 0.8641 - val_loss: 1.7688 - val_acc: 0.8370\n",
      "Epoch 10/20\n",
      "8953/8953 [==============================] - 14s 2ms/step - loss: 1.3525 - acc: 0.8749 - val_loss: 1.1862 - val_acc: 0.8227\n",
      "Epoch 11/20\n",
      "8953/8953 [==============================] - 13s 1ms/step - loss: 0.8874 - acc: 0.8766 - val_loss: 0.8580 - val_acc: 0.8129\n",
      "Epoch 12/20\n",
      "8953/8953 [==============================] - 13s 1ms/step - loss: 0.6394 - acc: 0.8762 - val_loss: 0.6646 - val_acc: 0.8419\n",
      "Epoch 13/20\n",
      "8953/8953 [==============================] - 12s 1ms/step - loss: 0.5100 - acc: 0.8749 - val_loss: 0.5738 - val_acc: 0.8272\n",
      "Epoch 14/20\n",
      "8953/8953 [==============================] - 12s 1ms/step - loss: 0.4322 - acc: 0.8786 - val_loss: 0.5425 - val_acc: 0.8071\n",
      "Epoch 15/20\n",
      "8953/8953 [==============================] - 13s 1ms/step - loss: 0.3891 - acc: 0.8814 - val_loss: 0.4922 - val_acc: 0.8079\n",
      "Epoch 16/20\n",
      "8953/8953 [==============================] - 14s 2ms/step - loss: 0.3695 - acc: 0.8829 - val_loss: 0.4512 - val_acc: 0.8401\n",
      "Epoch 17/20\n",
      "8953/8953 [==============================] - 14s 2ms/step - loss: 0.3546 - acc: 0.8850 - val_loss: 0.4661 - val_acc: 0.8178\n",
      "Epoch 18/20\n",
      "8953/8953 [==============================] - 14s 2ms/step - loss: 0.3443 - acc: 0.8857 - val_loss: 0.4320 - val_acc: 0.8388\n",
      "Epoch 19/20\n",
      "8953/8953 [==============================] - 14s 2ms/step - loss: 0.3263 - acc: 0.8892 - val_loss: 0.3998 - val_acc: 0.8481\n",
      "Epoch 20/20\n",
      "8953/8953 [==============================] - 13s 1ms/step - loss: 0.3187 - acc: 0.8944 - val_loss: 0.4174 - val_acc: 0.8446\n"
     ]
    }
   ],
   "source": [
    "hist = model.fit(X_train, y_train,\n",
    "                 batch_size=500, epochs=20,\n",
    "                 validation_data=(X_test, y_test),\n",
    "                 class_weight=class_weights)"
   ]
  },
  {
   "cell_type": "code",
   "execution_count": 16,
   "metadata": {},
   "outputs": [
    {
     "data": {
      "image/png": "[encoded data removed]",
      "text/plain": [
       "<matplotlib.figure.Figure at 0x251f0417358>"
      ]
     },
     "metadata": {},
     "output_type": "display_data"
    }
   ],
   "source": [
    "plt.plot(hist.history['loss'][10:], label='loss')\n",
    "plt.plot(hist.history['val_loss'][10:], label='val loss')\n",
    "plt.legend()\n",
    "plt.show()"
   ]
  },
  {
   "cell_type": "code",
   "execution_count": 17,
   "metadata": {},
   "outputs": [
    {
     "name": "stdout",
     "output_type": "stream",
     "text": [
      "              precision    recall  f1-score   support\n",
      "\n",
      "           0       0.83      0.99      0.90      1654\n",
      "           1       0.94      0.43      0.59       585\n",
      "\n",
      "   micro avg       0.84      0.84      0.84      2239\n",
      "   macro avg       0.88      0.71      0.75      2239\n",
      "weighted avg       0.86      0.84      0.82      2239\n",
      "\n",
      "false positive rate: 0.010278113663845224\n"
     ]
    }
   ],
   "source": [
    "def prob_to_class(predictions, cutoff=0.5):\n",
    "    return np.array([1 if p[0] > cutoff else 0 for p in predictions])\n",
    "\n",
    "\n",
    "predictions = model.predict(X_test)\n",
    "\n",
    "classes = prob_to_class(predictions)\n",
    "print(metrics.classification_report(y_test, classes))\n",
    "\n",
    "tn, fp, fn, tp = metrics.confusion_matrix(y_test, classes).ravel()\n",
    "print('false positive rate:', fp/(fp+tn))\n",
    "\n",
    "#Save false positive rate for later\n",
    "with open('false_positive_rate.txt', 'w') as fh:\n",
    "      fh.write(str(fp/(fp+tn)))"
   ]
  },
  {
   "cell_type": "code",
   "execution_count": 18,
   "metadata": {},
   "outputs": [
    {
     "data": {
      "image/png": "[encoded data removed]",
      "text/plain": [
       "<matplotlib.figure.Figure at 0x251ef54b198>"
      ]
     },
     "metadata": {},
     "output_type": "display_data"
    }
   ],
   "source": [
    "domain = np.linspace(0, 1, 100, endpoint=False)\n",
    "precisions = [metrics.precision_score(y_test, prob_to_class(predictions, cutoff)) for cutoff in domain]\n",
    "recalls = [metrics.recall_score(y_test, prob_to_class(predictions, cutoff)) for cutoff in domain]\n",
    "\n",
    "#Plot precision-recall curve\n",
    "plt.plot(domain, precisions, label='precision')\n",
    "plt.plot(domain, recalls, label='recall')\n",
    "plt.legend()\n",
    "plt.show()"
   ]
  },
  {
   "cell_type": "markdown",
   "metadata": {
    "collapsed": true
   },
   "source": [
    "Let's try rebuilding the model but allowing the embeddings to be trained:"
   ]
  },
  {
   "cell_type": "code",
   "execution_count": 45,
   "metadata": {},
   "outputs": [
    {
     "name": "stdout",
     "output_type": "stream",
     "text": [
      "_________________________________________________________________\n",
      "Layer (type)                 Output Shape              Param #   \n",
      "=================================================================\n",
      "embedding_9 (Embedding)      (None, 40, 50)            861500    \n",
      "_________________________________________________________________\n",
      "lstm_10 (LSTM)               (None, 200)               200800    \n",
      "_________________________________________________________________\n",
      "batch_normalization_18 (Batc (None, 200)               800       \n",
      "_________________________________________________________________\n",
      "dense_18 (Dense)             (None, 100)               20100     \n",
      "_________________________________________________________________\n",
      "dropout_6 (Dropout)          (None, 100)               0         \n",
      "_________________________________________________________________\n",
      "batch_normalization_19 (Batc (None, 100)               400       \n",
      "_________________________________________________________________\n",
      "dense_19 (Dense)             (None, 1)                 101       \n",
      "=================================================================\n",
      "Total params: 1,083,701\n",
      "Trainable params: 1,083,101\n",
      "Non-trainable params: 600\n",
      "_________________________________________________________________\n"
     ]
    }
   ],
   "source": [
    "embedding = Embedding(input_dim=vocab_size+1,\n",
    "                      output_dim=EMBEDDING_DIM,\n",
    "                      weights=[embedding_matrix],\n",
    "                      input_length=MAX_INPUT_LEN,\n",
    "                      trainable=True)\n",
    "model = Sequential()\n",
    "model.add(embedding)\n",
    "model.add(LSTM(200, activation='elu'))\n",
    "model.add(BatchNormalization())\n",
    "model.add(Dense(100, activation='relu'))\n",
    "model.add(Dropout(0.2))\n",
    "model.add(BatchNormalization())\n",
    "model.add(Dense(1, activation='sigmoid', kernel_regularizer=l2(0.1)))\n",
    "\n",
    "model.compile(loss='binary_crossentropy', optimizer=Adam(amsgrad=True), metrics=['accuracy'])\n",
    "model.summary()"
   ]
  },
  {
   "cell_type": "code",
   "execution_count": 46,
   "metadata": {},
   "outputs": [
    {
     "name": "stdout",
     "output_type": "stream",
     "text": [
      "Train on 8953 samples, validate on 2239 samples\n",
      "Epoch 1/10\n",
      "8953/8953 [==============================] - 20s 2ms/step - loss: 0.8180 - acc: 0.6716 - val_loss: 0.6840 - val_acc: 0.7753\n",
      "Epoch 2/10\n",
      "8953/8953 [==============================] - 18s 2ms/step - loss: 0.6292 - acc: 0.7977 - val_loss: 0.5301 - val_acc: 0.8401\n",
      "Epoch 3/10\n",
      "8953/8953 [==============================] - 19s 2ms/step - loss: 0.5188 - acc: 0.8441 - val_loss: 0.4835 - val_acc: 0.8464\n",
      "Epoch 4/10\n",
      "8953/8953 [==============================] - 19s 2ms/step - loss: 0.4542 - acc: 0.8650 - val_loss: 0.4631 - val_acc: 0.8553\n",
      "Epoch 5/10\n",
      "8953/8953 [==============================] - 19s 2ms/step - loss: 0.4073 - acc: 0.8788 - val_loss: 0.4584 - val_acc: 0.8584\n",
      "Epoch 6/10\n",
      "8953/8953 [==============================] - 18s 2ms/step - loss: 0.3681 - acc: 0.8888 - val_loss: 0.3916 - val_acc: 0.8669\n",
      "Epoch 7/10\n",
      "8953/8953 [==============================] - 18s 2ms/step - loss: 0.3296 - acc: 0.9053 - val_loss: 0.4535 - val_acc: 0.8584\n",
      "Epoch 8/10\n",
      "8953/8953 [==============================] - 18s 2ms/step - loss: 0.2993 - acc: 0.9165 - val_loss: 0.4764 - val_acc: 0.8522\n",
      "Epoch 9/10\n",
      "8953/8953 [==============================] - 18s 2ms/step - loss: 0.2611 - acc: 0.9321 - val_loss: 0.3976 - val_acc: 0.8508\n",
      "Epoch 10/10\n",
      "8953/8953 [==============================] - 18s 2ms/step - loss: 0.2276 - acc: 0.9416 - val_loss: 0.3703 - val_acc: 0.8834\n"
     ]
    }
   ],
   "source": [
    "hist = model.fit(X_train, y_train,\n",
    "                 batch_size=500, epochs=10,\n",
    "                 validation_data=(X_test, y_test),\n",
    "                 class_weight=class_weights)"
   ]
  },
  {
   "cell_type": "code",
   "execution_count": 35,
   "metadata": {},
   "outputs": [
    {
     "data": {
      "image/png": "[encoded data removed]",
      "text/plain": [
       "<matplotlib.figure.Figure at 0x2519ee62dd8>"
      ]
     },
     "metadata": {},
     "output_type": "display_data"
    }
   ],
   "source": [
    "plt.plot(hist.history['loss'], label='loss')\n",
    "plt.plot(hist.history['val_loss'], label='val loss')\n",
    "plt.legend()\n",
    "plt.show()"
   ]
  },
  {
   "cell_type": "code",
   "execution_count": 36,
   "metadata": {},
   "outputs": [
    {
     "name": "stdout",
     "output_type": "stream",
     "text": [
      "              precision    recall  f1-score   support\n",
      "\n",
      "           0       0.90      0.94      0.92      1654\n",
      "           1       0.81      0.72      0.76       585\n",
      "\n",
      "   micro avg       0.88      0.88      0.88      2239\n",
      "   macro avg       0.86      0.83      0.84      2239\n",
      "weighted avg       0.88      0.88      0.88      2239\n",
      "\n",
      "false positive rate: 0.06106408706166868\n"
     ]
    }
   ],
   "source": [
    "predictions = model.predict(X_test)\n",
    "\n",
    "classes = prob_to_class(predictions)\n",
    "print(metrics.classification_report(y_test, classes))\n",
    "\n",
    "tn, fp, fn, tp = metrics.confusion_matrix(y_test, classes).ravel()\n",
    "print('false positive rate:', fp/(fp+tn))\n",
    "\n",
    "#Save false positive rate for later\n",
    "with open('false_positive_rate.txt', 'w') as fh:\n",
    "      fh.write(str(fp/(fp+tn)))"
   ]
  },
  {
   "cell_type": "code",
   "execution_count": 37,
   "metadata": {},
   "outputs": [
    {
     "data": {
      "image/png": "[encoded data removed]",
      "text/plain": [
       "<matplotlib.figure.Figure at 0x25198885208>"
      ]
     },
     "metadata": {},
     "output_type": "display_data"
    }
   ],
   "source": [
    "domain = np.linspace(0, 1, 100, endpoint=False)\n",
    "precisions = [metrics.precision_score(y_test, prob_to_class(predictions, cutoff)) for cutoff in domain]\n",
    "recalls = [metrics.recall_score(y_test, prob_to_class(predictions, cutoff)) for cutoff in domain]\n",
    "\n",
    "#Plot precision-recall curve\n",
    "plt.plot(domain, precisions, label='precision')\n",
    "plt.plot(domain, recalls, label='recall')\n",
    "plt.legend()\n",
    "plt.show()"
   ]
  },
  {
   "cell_type": "code",
   "execution_count": 58,
   "metadata": {
    "collapsed": true
   },
   "outputs": [],
   "source": [
    "#Get the updated embedding matrix\n",
    "emb_weights = embedding.get_weights()[0]\n",
    "np.save('embedding_weights.npy', emb_weights)"
   ]
  },
  {
   "cell_type": "code",
   "execution_count": 76,
   "metadata": {},
   "outputs": [
    {
     "name": "stdout",
     "output_type": "stream",
     "text": [
      "_________________________________________________________________\n",
      "Layer (type)                 Output Shape              Param #   \n",
      "=================================================================\n",
      "embedding_14 (Embedding)     (None, 40, 100)           1723000   \n",
      "_________________________________________________________________\n",
      "dropout_11 (Dropout)         (None, 40, 100)           0         \n",
      "_________________________________________________________________\n",
      "lstm_13 (LSTM)               (None, 50)                30200     \n",
      "_________________________________________________________________\n",
      "dropout_12 (Dropout)         (None, 50)                0         \n",
      "_________________________________________________________________\n",
      "dense_22 (Dense)             (None, 1)                 51        \n",
      "=================================================================\n",
      "Total params: 1,753,251\n",
      "Trainable params: 1,753,251\n",
      "Non-trainable params: 0\n",
      "_________________________________________________________________\n"
     ]
    }
   ],
   "source": [
    "#Try using a similar model architecture like the one in Badjatiya et al\n",
    "embedding = Embedding(input_dim=vocab_size+1,\n",
    "                      output_dim=EMBEDDING_DIM,\n",
    "                      weights=[embedding_matrix],\n",
    "                      input_length=MAX_INPUT_LEN,\n",
    "                      trainable=True)\n",
    "model = Sequential()\n",
    "model.add(embedding)\n",
    "model.add(Dropout(0.25))\n",
    "model.add(LSTM(50, activation='elu'))\n",
    "model.add(Dropout(0.5))\n",
    "model.add(Dense(1, activation='sigmoid'))\n",
    "\n",
    "model.compile(loss='binary_crossentropy', optimizer=Adam(amsgrad=True), metrics=['accuracy'])\n",
    "model.summary()"
   ]
  },
  {
   "cell_type": "code",
   "execution_count": 77,
   "metadata": {},
   "outputs": [
    {
     "name": "stdout",
     "output_type": "stream",
     "text": [
      "Train on 8953 samples, validate on 2239 samples\n",
      "Epoch 1/15\n",
      "8953/8953 [==============================] - 14s 2ms/step - loss: 0.5936 - acc: 0.7263 - val_loss: 0.5495 - val_acc: 0.7405\n",
      "Epoch 2/15\n",
      "8953/8953 [==============================] - 11s 1ms/step - loss: 0.5376 - acc: 0.7566 - val_loss: 0.4814 - val_acc: 0.7834\n",
      "Epoch 3/15\n",
      "8953/8953 [==============================] - 11s 1ms/step - loss: 0.4437 - acc: 0.8125 - val_loss: 0.3942 - val_acc: 0.8289\n",
      "Epoch 4/15\n",
      "8953/8953 [==============================] - 11s 1ms/step - loss: 0.3860 - acc: 0.8366 - val_loss: 0.3435 - val_acc: 0.8562\n",
      "Epoch 5/15\n",
      "8953/8953 [==============================] - 11s 1ms/step - loss: 0.3445 - acc: 0.8602 - val_loss: 0.3221 - val_acc: 0.8638\n",
      "Epoch 6/15\n",
      "8953/8953 [==============================] - 11s 1ms/step - loss: 0.3076 - acc: 0.8743 - val_loss: 0.3283 - val_acc: 0.8665\n",
      "Epoch 7/15\n",
      "8953/8953 [==============================] - 11s 1ms/step - loss: 0.2813 - acc: 0.8857 - val_loss: 0.2954 - val_acc: 0.8776\n",
      "Epoch 8/15\n",
      "8953/8953 [==============================] - 11s 1ms/step - loss: 0.2543 - acc: 0.8976 - val_loss: 0.2791 - val_acc: 0.8857\n",
      "Epoch 9/15\n",
      "8953/8953 [==============================] - 11s 1ms/step - loss: 0.2235 - acc: 0.9103 - val_loss: 0.2860 - val_acc: 0.8830\n",
      "Epoch 10/15\n",
      "8953/8953 [==============================] - 11s 1ms/step - loss: 0.1992 - acc: 0.9245 - val_loss: 0.2766 - val_acc: 0.8870\n",
      "Epoch 11/15\n",
      "8953/8953 [==============================] - 13s 1ms/step - loss: 0.1754 - acc: 0.9334 - val_loss: 0.2651 - val_acc: 0.8910\n",
      "Epoch 12/15\n",
      "8953/8953 [==============================] - 13s 1ms/step - loss: 0.1627 - acc: 0.9382 - val_loss: 0.2621 - val_acc: 0.8973\n",
      "Epoch 13/15\n",
      "8953/8953 [==============================] - 12s 1ms/step - loss: 0.1414 - acc: 0.9473 - val_loss: 0.2826 - val_acc: 0.8933\n",
      "Epoch 14/15\n",
      "8953/8953 [==============================] - 11s 1ms/step - loss: 0.1310 - acc: 0.9514 - val_loss: 0.3108 - val_acc: 0.8901\n",
      "Epoch 15/15\n",
      "8953/8953 [==============================] - 11s 1ms/step - loss: 0.1116 - acc: 0.9583 - val_loss: 0.2881 - val_acc: 0.8901\n"
     ]
    }
   ],
   "source": [
    "hist = model.fit(X_train, y_train,\n",
    "                 batch_size=500, epochs=15,\n",
    "                 validation_data=(X_test, y_test),\n",
    "                 class_weight=class_weights)"
   ]
  },
  {
   "cell_type": "code",
   "execution_count": 78,
   "metadata": {},
   "outputs": [
    {
     "data": {
      "image/png": "[encoded data removed]",
      "text/plain": [
       "<matplotlib.figure.Figure at 0x25203692be0>"
      ]
     },
     "metadata": {},
     "output_type": "display_data"
    }
   ],
   "source": [
    "plt.plot(hist.history['loss'], label='loss')\n",
    "plt.plot(hist.history['val_loss'], label='val loss')\n",
    "plt.legend()\n",
    "plt.show()"
   ]
  },
  {
   "cell_type": "code",
   "execution_count": 79,
   "metadata": {},
   "outputs": [
    {
     "name": "stdout",
     "output_type": "stream",
     "text": [
      "              precision    recall  f1-score   support\n",
      "\n",
      "           0       0.93      0.93      0.93      1654\n",
      "           1       0.79      0.79      0.79       585\n",
      "\n",
      "   micro avg       0.89      0.89      0.89      2239\n",
      "   macro avg       0.86      0.86      0.86      2239\n",
      "weighted avg       0.89      0.89      0.89      2239\n",
      "\n",
      "false positive rate: 0.07376058041112454\n"
     ]
    }
   ],
   "source": [
    "predictions = model.predict(X_test)\n",
    "\n",
    "classes = prob_to_class(predictions)\n",
    "print(metrics.classification_report(y_test, classes))\n",
    "\n",
    "tn, fp, fn, tp = metrics.confusion_matrix(y_test, classes).ravel()\n",
    "print('false positive rate:', fp/(fp+tn))\n",
    "\n",
    "#Save false positive rate for later\n",
    "with open('false_positive_rate.txt', 'w') as fh:\n",
    "      fh.write(str(fp/(fp+tn)))"
   ]
  },
  {
   "cell_type": "code",
   "execution_count": 99,
   "metadata": {},
   "outputs": [
    {
     "data": {
      "text/plain": [
       "0.8571368038115317"
      ]
     },
     "execution_count": 99,
     "metadata": {},
     "output_type": "execute_result"
    }
   ],
   "source": [
    "metrics.balanced_accuracy_score(y_test, classes)"
   ]
  },
  {
   "cell_type": "code",
   "execution_count": 71,
   "metadata": {},
   "outputs": [
    {
     "data": {
      "image/png": "[encoded data removed]",
      "text/plain": [
       "<matplotlib.figure.Figure at 0x25200c27588>"
      ]
     },
     "metadata": {},
     "output_type": "display_data"
    }
   ],
   "source": [
    "domain = np.linspace(0, 1, 100, endpoint=False)\n",
    "precisions = [metrics.precision_score(y_test, prob_to_class(predictions, cutoff)) for cutoff in domain]\n",
    "recalls = [metrics.recall_score(y_test, prob_to_class(predictions, cutoff)) for cutoff in domain]\n",
    "\n",
    "#Plot precision-recall curve\n",
    "plt.plot(domain, precisions, label='precision')\n",
    "plt.plot(domain, recalls, label='recall')\n",
    "plt.legend()\n",
    "plt.show()"
   ]
  },
  {
   "cell_type": "code",
   "execution_count": 83,
   "metadata": {
    "collapsed": true
   },
   "outputs": [],
   "source": [
    "#Get the updated embedding matrix\n",
    "emb_weights = embedding.get_weights()[0]\n",
    "np.save('embedding_weights.npy', emb_weights)"
   ]
  }
 ],
 "metadata": {
  "kernelspec": {
   "display_name": "Python 3",
   "language": "python",
   "name": "python3"
  },
  "language_info": {
   "codemirror_mode": {
    "name": "ipython",
    "version": 3
   },
   "file_extension": ".py",
   "mimetype": "text/x-python",
   "name": "python",
   "nbconvert_exporter": "python",
   "pygments_lexer": "ipython3",
   "version": "3.6.3"
  }
 },
 "nbformat": 4,
 "nbformat_minor": 2
}
