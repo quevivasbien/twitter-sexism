{
 "cells": [
  {
   "cell_type": "code",
   "execution_count": 47,
   "metadata": {},
   "outputs": [],
   "source": [
    "import json\n",
    "import numpy as np\n",
    "import pandas as pd\n",
    "import matplotlib.pyplot as plt\n",
    "\n",
    "from collections import Counter\n",
    "from keras.preprocessing.sequence import pad_sequences\n",
    "from keras.models import Sequential\n",
    "from keras.layers import Embedding, LSTM, BatchNormalization, Dense\n",
    "from keras.optimizers import Adam\n",
    "from sklearn.utils import class_weight\n",
    "from sklearn.model_selection import train_test_split\n",
    "\n",
    "#local module that I created to help with text preprocessing\n",
    "import text_processing as t_proc"
   ]
  },
  {
   "cell_type": "code",
   "execution_count": 2,
   "metadata": {},
   "outputs": [
    {
     "name": "stdout",
     "output_type": "stream",
     "text": [
      "              label\n",
      "count  43177.000000\n",
      "mean       0.120226\n",
      "std        0.325229\n",
      "min        0.000000\n",
      "25%        0.000000\n",
      "50%        0.000000\n",
      "75%        0.000000\n",
      "max        1.000000\n"
     ]
    },
    {
     "data": {
      "text/html": [
       "<div>\n",
       "<style scoped>\n",
       "    .dataframe tbody tr th:only-of-type {\n",
       "        vertical-align: middle;\n",
       "    }\n",
       "\n",
       "    .dataframe tbody tr th {\n",
       "        vertical-align: top;\n",
       "    }\n",
       "\n",
       "    .dataframe thead th {\n",
       "        text-align: right;\n",
       "    }\n",
       "</style>\n",
       "<table border=\"1\" class=\"dataframe\">\n",
       "  <thead>\n",
       "    <tr style=\"text-align: right;\">\n",
       "      <th></th>\n",
       "      <th>label</th>\n",
       "      <th>tweet</th>\n",
       "    </tr>\n",
       "  </thead>\n",
       "  <tbody>\n",
       "    <tr>\n",
       "      <th>15825</th>\n",
       "      <td>0</td>\n",
       "      <td>... such evil acts!</td>\n",
       "    </tr>\n",
       "    <tr>\n",
       "      <th>7656</th>\n",
       "      <td>0</td>\n",
       "      <td>ditching @user for prom really was #sad   than...</td>\n",
       "    </tr>\n",
       "    <tr>\n",
       "      <th>28479</th>\n",
       "      <td>0</td>\n",
       "      <td>ready for takeoff, kicking off my @user talkin...</td>\n",
       "    </tr>\n",
       "    <tr>\n",
       "      <th>14352</th>\n",
       "      <td>0</td>\n",
       "      <td>couple having sex naked arabian</td>\n",
       "    </tr>\n",
       "    <tr>\n",
       "      <th>9897</th>\n",
       "      <td>0</td>\n",
       "      <td>a perfect day to take my fitness outside. wild...</td>\n",
       "    </tr>\n",
       "    <tr>\n",
       "      <th>1930</th>\n",
       "      <td>0</td>\n",
       "      <td>here comes #monsoon2016 #mumbairains ,#delight...</td>\n",
       "    </tr>\n",
       "    <tr>\n",
       "      <th>24839</th>\n",
       "      <td>0</td>\n",
       "      <td>@user the far left &amp;amp; far right are lappin...</td>\n",
       "    </tr>\n",
       "    <tr>\n",
       "      <th>22264</th>\n",
       "      <td>1</td>\n",
       "      <td>@user the latest the blicqerâ¢ daily!  thanks...</td>\n",
       "    </tr>\n",
       "    <tr>\n",
       "      <th>28718</th>\n",
       "      <td>0</td>\n",
       "      <td>@user   @user should have come out strong agai...</td>\n",
       "    </tr>\n",
       "    <tr>\n",
       "      <th>15167</th>\n",
       "      <td>0</td>\n",
       "      <td>#fathersday to all our #heros !!! let us #ce...</td>\n",
       "    </tr>\n",
       "  </tbody>\n",
       "</table>\n",
       "</div>"
      ],
      "text/plain": [
       "       label                                              tweet\n",
       "15825      0                               ... such evil acts! \n",
       "7656       0  ditching @user for prom really was #sad   than...\n",
       "28479      0  ready for takeoff, kicking off my @user talkin...\n",
       "14352      0                  couple having sex naked arabian  \n",
       "9897       0  a perfect day to take my fitness outside. wild...\n",
       "1930       0  here comes #monsoon2016 #mumbairains ,#delight...\n",
       "24839      0   @user the far left &amp; far right are lappin...\n",
       "22264      1  @user the latest the blicqerâ¢ daily!  thanks...\n",
       "28718      0  @user   @user should have come out strong agai...\n",
       "15167      0    #fathersday to all our #heros !!! let us #ce..."
      ]
     },
     "execution_count": 2,
     "metadata": {},
     "output_type": "execute_result"
    }
   ],
   "source": [
    "VIDHYA_DATA = 'training_data/vidhya_data.csv'\n",
    "NAACL_DATA = 'training_data/NAACL_data.csv'\n",
    "\n",
    "vidhya_data = pd.read_csv(VIDHYA_DATA, usecols=['label', 'tweet'])\n",
    "naacl_data = pd.read_csv(NAACL_DATA, usecols=['label', 'tweet'])\n",
    "\n",
    "training_data = pd.concat([vidhya_data, naacl_data]).reset_index(drop=True)\n",
    "\n",
    "print(training_data.describe())\n",
    "training_data.sample(10)"
   ]
  },
  {
   "cell_type": "code",
   "execution_count": 3,
   "metadata": {
    "scrolled": false
   },
   "outputs": [],
   "source": [
    "tweets = list(training_data.tweet)\n",
    "labels = np.array(training_data.label)\n",
    "\n",
    "tweets_tokenized = [t_proc.tokenize_status_text(t) for t in tweets]"
   ]
  },
  {
   "cell_type": "code",
   "execution_count": 60,
   "metadata": {},
   "outputs": [],
   "source": [
    "# Create hash for Twitter vocab\n",
    "\n",
    "VOCAB_SIZE = 50000\n",
    "\n",
    "counter = Counter()\n",
    "for t in tweets_tokenized:\n",
    "    counter.update(t)\n",
    "\n",
    "vocab = [x[0] for x in counter.most_common(VOCAB_SIZE)]\n",
    "\n",
    "# Reserve 0 for unknown tokens\n",
    "hash_dict = dict((vocab[i], i+1) for i in range(VOCAB_SIZE))\n",
    "\n",
    "# Save hashmap for later\n",
    "with open('hashmap.json', 'w', encoding='utf-8') as fh:\n",
    "    json.dump(hash_dict, fh)"
   ]
  },
  {
   "cell_type": "code",
   "execution_count": 23,
   "metadata": {},
   "outputs": [
    {
     "data": {
      "image/png": "[encoded data removed]",
      "text/plain": [
       "<matplotlib.figure.Figure at 0x19351c5ac88>"
      ]
     },
     "metadata": {},
     "output_type": "display_data"
    }
   ],
   "source": [
    "tweet_lens = [len(t) for t in tweets_tokenized]\n",
    "plt.xlim((0,100))\n",
    "plt.hist(tweet_lens, bins=range(0,100,5))\n",
    "plt.show()"
   ]
  },
  {
   "cell_type": "code",
   "execution_count": 36,
   "metadata": {},
   "outputs": [],
   "source": [
    "# Hash and pad tweets\n",
    "MAX_INPUT_LEN = 30 # len 30 should be plenty based on previous histogram\n",
    "\n",
    "def hash_token(t):\n",
    "    hashcode = hash_dict.get(t)\n",
    "    if hashcode is not None:\n",
    "        return hashcode\n",
    "    else:\n",
    "        # Hash unknown tokens as 0\n",
    "        return 0\n",
    "\n",
    "tweets_hashed = [[hash_token(t) for t in tweet] for tweet in tweets_tokenized]\n",
    "tweets_padded = pad_sequences(tweets_hashed, maxlen=MAX_INPUT_LEN)"
   ]
  },
  {
   "cell_type": "code",
   "execution_count": 30,
   "metadata": {},
   "outputs": [],
   "source": [
    "# Create embedding dict from Glove pre-trained embeddings\n",
    "EMBEDDING_DIM = 100\n",
    "embedding_file = 'word_embeddings/glove.twitter.27B.{}d.txt'.format(EMBEDDING_DIM)\n",
    "\n",
    "emb_dict = {}\n",
    "with open(embedding_file, encoding='utf-8') as fh:\n",
    "    for line in fh:\n",
    "        chunks = line.split(' ')\n",
    "        word = chunks[0]\n",
    "        vec = np.array(chunks[1:], dtype='float32')\n",
    "        emb_dict[word] = vec"
   ]
  },
  {
   "cell_type": "code",
   "execution_count": 37,
   "metadata": {},
   "outputs": [],
   "source": [
    "# Create embedding matrix with hashmap and pre-trained embeddings\n",
    "\n",
    "embedding_matrix = np.zeros((VOCAB_SIZE+1, EMBEDDING_DIM), dtype='float32')\n",
    "for i in range(1, VOCAB_SIZE+1):\n",
    "    embedding_vector = emb_dict.get(vocab[i-1])\n",
    "    if embedding_vector is not None:\n",
    "        embedding_matrix[i] = embedding_vector\n",
    "    #If the embedding dict doesn't have this token, it will be translated\n",
    "    # as a vector of zeroes.\n",
    "\n",
    "# Build embedding layer to plug into Keras Sequential model\n",
    "embedding = Embedding(input_dim=VOCAB_SIZE+1,\n",
    "                      output_dim=EMBEDDING_DIM,\n",
    "                      weights=[embedding_matrix],\n",
    "                      input_length=MAX_INPUT_LEN,\n",
    "                      trainable=False)"
   ]
  },
  {
   "cell_type": "code",
   "execution_count": 61,
   "metadata": {},
   "outputs": [
    {
     "name": "stdout",
     "output_type": "stream",
     "text": [
      "_________________________________________________________________\n",
      "Layer (type)                 Output Shape              Param #   \n",
      "=================================================================\n",
      "embedding_1 (Embedding)      (None, 30, 100)           5000100   \n",
      "_________________________________________________________________\n",
      "lstm_12 (LSTM)               (None, 100)               80400     \n",
      "_________________________________________________________________\n",
      "batch_normalization_8 (Batch (None, 100)               400       \n",
      "_________________________________________________________________\n",
      "dense_8 (Dense)              (None, 1)                 101       \n",
      "=================================================================\n",
      "Total params: 5,081,001\n",
      "Trainable params: 80,701\n",
      "Non-trainable params: 5,000,300\n",
      "_________________________________________________________________\n"
     ]
    }
   ],
   "source": [
    "# Construct model\n",
    "\n",
    "model = Sequential()\n",
    "model.add(embedding)\n",
    "model.add(LSTM(100, activation='relu'))\n",
    "model.add(BatchNormalization())\n",
    "model.add(Dense(1, activation='sigmoid'))\n",
    "\n",
    "model.compile(loss='binary_crossentropy', optimizer=Adam(amsgrad=True), metrics=['accuracy'])\n",
    "model.summary()"
   ]
  },
  {
   "cell_type": "code",
   "execution_count": 50,
   "metadata": {},
   "outputs": [],
   "source": [
    "#The data is imbalanced, so we need to figure out what class weights to use\n",
    "class_weights = class_weight.compute_class_weight('balanced',\n",
    "                                                  np.unique(labels),\n",
    "                                                  labels)\n",
    "\n",
    "#Split into training and validation sets\n",
    "np.random.seed(152)\n",
    "X_train, X_test, y_train, y_test = train_test_split(tweets_padded, labels,\n",
    "                                                    test_size=0.2, shuffle=True)"
   ]
  },
  {
   "cell_type": "code",
   "execution_count": 63,
   "metadata": {},
   "outputs": [
    {
     "name": "stdout",
     "output_type": "stream",
     "text": [
      "Train on 43177 samples, validate on 8636 samples\n",
      "Epoch 1/6\n",
      "43177/43177 [==============================] - 23s 522us/step - loss: 0.1481 - acc: 0.9421 - val_loss: 0.1351 - val_acc: 0.9473\n",
      "Epoch 2/6\n",
      "43177/43177 [==============================] - 24s 552us/step - loss: 0.1373 - acc: 0.9456 - val_loss: 0.1205 - val_acc: 0.9538\n",
      "Epoch 3/6\n",
      "43177/43177 [==============================] - 23s 530us/step - loss: 0.1254 - acc: 0.9511 - val_loss: 0.1083 - val_acc: 0.9616\n",
      "Epoch 4/6\n",
      "43177/43177 [==============================] - 24s 545us/step - loss: 0.1144 - acc: 0.9549 - val_loss: 0.0975 - val_acc: 0.9645\n",
      "Epoch 5/6\n",
      "43177/43177 [==============================] - 24s 547us/step - loss: 0.1059 - acc: 0.9588 - val_loss: 0.0888 - val_acc: 0.9676\n",
      "Epoch 6/6\n",
      "43177/43177 [==============================] - 24s 561us/step - loss: 0.0942 - acc: 0.9640 - val_loss: 0.0793 - val_acc: 0.9728\n"
     ]
    }
   ],
   "source": [
    "hist = model.fit(tweets_padded, labels,\n",
    "                 batch_size=256, epochs=6,\n",
    "                 validation_data=(X_test, y_test),\n",
    "                 class_weight=class_weights)"
   ]
  },
  {
   "cell_type": "code",
   "execution_count": 64,
   "metadata": {},
   "outputs": [],
   "source": [
    "model.save('modelv2.h5')"
   ]
  }
 ],
 "metadata": {
  "kernelspec": {
   "display_name": "Python 3",
   "language": "python",
   "name": "python3"
  },
  "language_info": {
   "codemirror_mode": {
    "name": "ipython",
    "version": 3
   },
   "file_extension": ".py",
   "mimetype": "text/x-python",
   "name": "python",
   "nbconvert_exporter": "python",
   "pygments_lexer": "ipython3",
   "version": "3.6.3"
  }
 },
 "nbformat": 4,
 "nbformat_minor": 2
}
